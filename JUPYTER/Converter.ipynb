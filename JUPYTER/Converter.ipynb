{
 "cells": [
  {
   "cell_type": "code",
   "execution_count": 8,
   "metadata": {},
   "outputs": [],
   "source": [
    "import numpy as np\n",
    "import pandas as pd"
   ]
  },
  {
   "cell_type": "code",
   "execution_count": 9,
   "metadata": {},
   "outputs": [
    {
     "data": {
      "text/plain": [
       "fixed acidity           42\n",
       "volatile acidity        39\n",
       "citric acid             35\n",
       "residual sugar          46\n",
       "chlorides               29\n",
       "free sulfur dioxide     43\n",
       "total sulfur dioxide    40\n",
       "density                 35\n",
       "pH                      29\n",
       "sulphates               50\n",
       "alcohol                 40\n",
       "quality                  0\n",
       "dtype: int64"
      ]
     },
     "execution_count": 9,
     "metadata": {},
     "output_type": "execute_result"
    }
   ],
   "source": [
    "#Insert of Nan value in the dataset (not in quality column)\n",
    "df=pd.read_csv('archive/winequality-red.csv')\n",
    "mask=np.random.rand(*df.shape) < 0.025\n",
    "mask[:, df.columns.get_loc('quality')] = False\n",
    "df[mask]=np.nan\n",
    "df.to_csv('winequality_red.csv', index=False)\n",
    "df.isnull().sum()"
   ]
  }
 ],
 "metadata": {
  "kernelspec": {
   "display_name": "Python 3",
   "language": "python",
   "name": "python3"
  },
  "language_info": {
   "codemirror_mode": {
    "name": "ipython",
    "version": 3
   },
   "file_extension": ".py",
   "mimetype": "text/x-python",
   "name": "python",
   "nbconvert_exporter": "python",
   "pygments_lexer": "ipython3",
   "version": "3.11.7"
  }
 },
 "nbformat": 4,
 "nbformat_minor": 2
}
